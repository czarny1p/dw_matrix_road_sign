{
  "nbformat": 4,
  "nbformat_minor": 0,
  "metadata": {
    "colab": {
      "name": "day5.ipynb",
      "provenance": [],
      "mount_file_id": "1ByG3MggFB2Lav99617pmEi5Te_d15Wg3",
      "authorship_tag": "ABX9TyOY87BhViS+1bYvmj0ZP8xN",
      "include_colab_link": true
    },
    "kernelspec": {
      "name": "python3",
      "display_name": "Python 3"
    },
    "accelerator": "GPU"
  },
  "cells": [
    {
      "cell_type": "markdown",
      "metadata": {
        "id": "view-in-github",
        "colab_type": "text"
      },
      "source": [
        "<a href=\"https://colab.research.google.com/github/czarny1p/dw_matrix_road_sign/blob/master/day5.ipynb\" target=\"_parent\"><img src=\"https://colab.research.google.com/assets/colab-badge.svg\" alt=\"Open In Colab\"/></a>"
      ]
    },
    {
      "cell_type": "code",
      "metadata": {
        "id": "OM8XJUyf1WYd",
        "colab_type": "code",
        "colab": {
          "base_uri": "https://localhost:8080/",
          "height": 170
        },
        "outputId": "944257af-1d41-440c-87a9-b144337c120c"
      },
      "source": [
        "!pip install hyperopt"
      ],
      "execution_count": 1,
      "outputs": [
        {
          "output_type": "stream",
          "text": [
            "Requirement already satisfied: hyperopt in /usr/local/lib/python3.6/dist-packages (0.1.2)\n",
            "Requirement already satisfied: tqdm in /usr/local/lib/python3.6/dist-packages (from hyperopt) (4.38.0)\n",
            "Requirement already satisfied: six in /usr/local/lib/python3.6/dist-packages (from hyperopt) (1.12.0)\n",
            "Requirement already satisfied: numpy in /usr/local/lib/python3.6/dist-packages (from hyperopt) (1.18.2)\n",
            "Requirement already satisfied: networkx in /usr/local/lib/python3.6/dist-packages (from hyperopt) (2.4)\n",
            "Requirement already satisfied: future in /usr/local/lib/python3.6/dist-packages (from hyperopt) (0.16.0)\n",
            "Requirement already satisfied: scipy in /usr/local/lib/python3.6/dist-packages (from hyperopt) (1.4.1)\n",
            "Requirement already satisfied: pymongo in /usr/local/lib/python3.6/dist-packages (from hyperopt) (3.10.1)\n",
            "Requirement already satisfied: decorator>=4.3.0 in /usr/local/lib/python3.6/dist-packages (from networkx->hyperopt) (4.4.2)\n"
          ],
          "name": "stdout"
        }
      ]
    },
    {
      "cell_type": "code",
      "metadata": {
        "id": "9YXmXTnl1qTB",
        "colab_type": "code",
        "colab": {
          "base_uri": "https://localhost:8080/",
          "height": 51
        },
        "outputId": "18cd456b-8383-429f-dacc-3b5d08942555"
      },
      "source": [
        "import pandas as pd\n",
        "import numpy as np\n",
        "import os\n",
        "import datetime\n",
        "\n",
        "import tensorflow as tf\n",
        "from tensorflow.keras.models import Sequential\n",
        "from tensorflow.keras.layers import Conv2D, MaxPool2D, Dense, Flatten, Dropout\n",
        "from tensorflow.keras.utils import to_categorical\n",
        "\n",
        "%load_ext tensorboard\n",
        "\n",
        "import matplotlib.pyplot as plt\n",
        "from skimage import color, exposure\n",
        "\n",
        "from sklearn.metrics import accuracy_score\n",
        "\n",
        "from hyperopt import hp, STATUS_OK, tpe, Trials, fmin"
      ],
      "execution_count": 20,
      "outputs": [
        {
          "output_type": "stream",
          "text": [
            "The tensorboard extension is already loaded. To reload it, use:\n",
            "  %reload_ext tensorboard\n"
          ],
          "name": "stdout"
        }
      ]
    },
    {
      "cell_type": "code",
      "metadata": {
        "id": "X8h4Kmh716We",
        "colab_type": "code",
        "colab": {
          "base_uri": "https://localhost:8080/",
          "height": 34
        },
        "outputId": "96f07ae7-b3f9-4e70-bb64-7766d5f65d66"
      },
      "source": [
        "cd '/content/drive/My Drive/Colab Notebooks/Matrix/matrix_three/dw_matrix_road_sign'"
      ],
      "execution_count": 3,
      "outputs": [
        {
          "output_type": "stream",
          "text": [
            "/content/drive/My Drive/Colab Notebooks/Matrix/matrix_three/dw_matrix_road_sign\n"
          ],
          "name": "stdout"
        }
      ]
    },
    {
      "cell_type": "code",
      "metadata": {
        "id": "pCPQmd5I19XN",
        "colab_type": "code",
        "colab": {}
      },
      "source": [
        "train = pd.read_pickle('data/train.p')\n",
        "test = pd.read_pickle('data/test.p')\n",
        "\n",
        "\n",
        "X_train, y_train = train['features'], train['labels']\n",
        "X_test, y_test = test['features'], test['labels']"
      ],
      "execution_count": 0,
      "outputs": []
    },
    {
      "cell_type": "code",
      "metadata": {
        "id": "OQaDTgUa2BJl",
        "colab_type": "code",
        "colab": {}
      },
      "source": [
        "if y_train.ndim == 1: y_train = to_categorical(y_train)\n",
        "if y_test.ndim == 1: y_test = to_categorical(y_test)\n",
        "\n",
        "input_shape = X_train.shape[1:]\n",
        "num_classes = y_train.shape[1]"
      ],
      "execution_count": 0,
      "outputs": []
    },
    {
      "cell_type": "code",
      "metadata": {
        "id": "Xn_WLAWO2FOl",
        "colab_type": "code",
        "colab": {}
      },
      "source": [
        "def train_model(model, X_train, y_train, params_fit={}):\n",
        "  model.compile(loss='categorical_crossentropy', optimizer='Adam', metrics=['accuracy'])\n",
        "  \n",
        "  logdir = os.path.join(\"logs\", datetime.datetime.now().strftime(\"%Y%m%d-%H%M%S\"))\n",
        "  tensorboard_callback = tf.keras.callbacks.TensorBoard(logdir, histogram_freq=1)\n",
        "  \n",
        "  model.fit(\n",
        "      X_train,\n",
        "      y_train,\n",
        "      batch_size=params_fit.get('batch_size', 128),\n",
        "      epochs=params_fit.get('epochs', 5),\n",
        "      verbose=params_fit.get('verbose',1),\n",
        "      validation_data=params_fit.get('validation_data', (X_train, y_train)),\n",
        "      callbacks= [tensorboard_callback]\n",
        "\n",
        "  )\n",
        "  \n",
        "  return model\n",
        "\n",
        "def predict(model_trained, X_test, y_test, scoring=accuracy_score):\n",
        "\n",
        "  y_test_norm = np.argmax(y_test, axis=1)\n",
        "\n",
        "  y_pred_prob = model_trained.predict(X_test)\n",
        "  y_pred = np.argmax(y_pred_prob, axis=1)\n",
        "\n",
        "  return scoring(y_test_norm, y_pred)"
      ],
      "execution_count": 0,
      "outputs": []
    },
    {
      "cell_type": "code",
      "metadata": {
        "id": "B4gdQ9x32ZhE",
        "colab_type": "code",
        "colab": {}
      },
      "source": [
        "def get_cnn_v5(input_shape, num_classes):\n",
        "  return Sequential([\n",
        "    Conv2D(filters=32, kernel_size=(3,3), activation='relu', input_shape=input_shape, padding='same'),\n",
        "    Conv2D(filters=32, kernel_size=(3,3), activation='relu'),\n",
        "    MaxPool2D(),\n",
        "    Dropout(0.3),\n",
        "\n",
        "    Conv2D(filters=64, kernel_size=(3,3), activation='relu', padding='same'),\n",
        "    Conv2D(filters=64, kernel_size=(3,3), activation='relu'),\n",
        "    MaxPool2D(),\n",
        "    Dropout(0.3),\n",
        "\n",
        "    Conv2D(filters=64, kernel_size=(3,3), activation='relu', padding='same'),\n",
        "    Conv2D(filters=64, kernel_size=(3,3), activation='relu'),\n",
        "    MaxPool2D(),\n",
        "    Dropout(0.3),\n",
        "\n",
        "    Flatten(),\n",
        "\n",
        "    Dense(1024, activation='relu'),\n",
        "    Dropout(0.3),\n",
        "\n",
        "    Dense(num_classes, activation='softmax'),                 \n",
        "  ])\n",
        "\n",
        "#get_cnn_v4(input_shape, num_classes).summary()\n",
        "#train_and_predict( get_cnn_v5(input_shape, num_classes) )"
      ],
      "execution_count": 0,
      "outputs": []
    },
    {
      "cell_type": "code",
      "metadata": {
        "id": "Eg6lVGwX2v4b",
        "colab_type": "code",
        "colab": {
          "base_uri": "https://localhost:8080/",
          "height": 204
        },
        "outputId": "46ae7f72-cc39-4104-f697-469bc9595c9f"
      },
      "source": [
        "model = get_cnn_v5(input_shape, num_classes)\n",
        "model_trained = train_model(model, X_train, y_train)\n",
        "\n",
        "predict(model_trained, X_test, y_test)"
      ],
      "execution_count": 16,
      "outputs": [
        {
          "output_type": "stream",
          "text": [
            "Epoch 1/5\n",
            "272/272 [==============================] - 6s 22ms/step - loss: 2.4783 - accuracy: 0.3131 - val_loss: 0.9136 - val_accuracy: 0.7303\n",
            "Epoch 2/5\n",
            "272/272 [==============================] - 6s 21ms/step - loss: 0.8063 - accuracy: 0.7454 - val_loss: 0.2142 - val_accuracy: 0.9520\n",
            "Epoch 3/5\n",
            "272/272 [==============================] - 6s 22ms/step - loss: 0.3729 - accuracy: 0.8852 - val_loss: 0.0751 - val_accuracy: 0.9776\n",
            "Epoch 4/5\n",
            "272/272 [==============================] - 6s 21ms/step - loss: 0.2455 - accuracy: 0.9245 - val_loss: 0.0476 - val_accuracy: 0.9880\n",
            "Epoch 5/5\n",
            "272/272 [==============================] - 6s 21ms/step - loss: 0.1885 - accuracy: 0.9449 - val_loss: 0.0286 - val_accuracy: 0.9922\n"
          ],
          "name": "stdout"
        },
        {
          "output_type": "execute_result",
          "data": {
            "text/plain": [
              "0.9707482993197278"
            ]
          },
          "metadata": {
            "tags": []
          },
          "execution_count": 16
        }
      ]
    },
    {
      "cell_type": "code",
      "metadata": {
        "id": "fLUjw3VW4Eml",
        "colab_type": "code",
        "colab": {
          "base_uri": "https://localhost:8080/",
          "height": 51
        },
        "outputId": "c89c96a5-4bb3-4ac4-bdcc-eff544db3894"
      },
      "source": [
        "model_trained.evaluate(X_test, y_test)"
      ],
      "execution_count": 17,
      "outputs": [
        {
          "output_type": "stream",
          "text": [
            "138/138 [==============================] - 1s 4ms/step - loss: 0.1565 - accuracy: 0.9707\n"
          ],
          "name": "stdout"
        },
        {
          "output_type": "execute_result",
          "data": {
            "text/plain": [
              "[0.1564851999282837, 0.9707483053207397]"
            ]
          },
          "metadata": {
            "tags": []
          },
          "execution_count": 17
        }
      ]
    },
    {
      "cell_type": "code",
      "metadata": {
        "id": "eZT5NzOV6awx",
        "colab_type": "code",
        "colab": {}
      },
      "source": [
        "def get_model(params):\n",
        "  return Sequential([\n",
        "    Conv2D(filters=32, kernel_size=(3,3), activation='relu', input_shape=input_shape, padding='same'),\n",
        "    Conv2D(filters=32, kernel_size=(3,3), activation='relu'),\n",
        "    MaxPool2D(),\n",
        "    Dropout(params['dropout_cnn_block_one']),\n",
        "\n",
        "    Conv2D(filters=64, kernel_size=(3,3), activation='relu', padding='same'),\n",
        "    Conv2D(filters=64, kernel_size=(3,3), activation='relu'),\n",
        "    MaxPool2D(),\n",
        "    Dropout(params['dropout_cnn_block_two']),\n",
        "\n",
        "    Conv2D(filters=128, kernel_size=(3,3), activation='relu', padding='same'),\n",
        "    Conv2D(filters=128, kernel_size=(3,3), activation='relu'),\n",
        "    MaxPool2D(),\n",
        "    Dropout(params['dropout_cnn_block_three']),\n",
        "\n",
        "    Flatten(),\n",
        "\n",
        "    Dense(1024, activation='relu'),\n",
        "    Dropout(params['dropout_dense_block_one']),\n",
        "\n",
        "    Dense(1024, activation='relu'),\n",
        "    Dropout(params['dropout_dense_block_two']),\n",
        "\n",
        "    Dense(num_classes, activation='softmax'),                 \n",
        "  ])\n",
        "\n",
        "#get_cnn_v4(input_shape, num_classes).summary()\n",
        "#train_and_predict( get_cnn_v5(input_shape, num_classes) )"
      ],
      "execution_count": 0,
      "outputs": []
    },
    {
      "cell_type": "code",
      "metadata": {
        "id": "b8bppFb33ArS",
        "colab_type": "code",
        "colab": {}
      },
      "source": [
        "def func_obj(params):\n",
        "  model = get_model(params)\n",
        "  model.compile(loss='categorical_crossentropy', optimizer='Adam', metrics=['accuracy'])\n",
        "  \n",
        "  model.fit(\n",
        "      X_train,\n",
        "      y_train,\n",
        "      batch_size=128,#int(params.get('batch_size', 128)),\n",
        "      epochs=5,\n",
        "      verbose=0,\n",
        "  )\n",
        "\n",
        "  score = model.evaluate(X_test, y_test, verbose=0)\n",
        "  accuracy = score[1]\n",
        "  print(params, 'accuracy={}'.format(accuracy))\n",
        "  \n",
        "  return {'loss': -accuracy, 'status': STATUS_OK, 'model': model}"
      ],
      "execution_count": 0,
      "outputs": []
    },
    {
      "cell_type": "code",
      "metadata": {
        "id": "dWtHt_dL43bl",
        "colab_type": "code",
        "colab": {
          "base_uri": "https://localhost:8080/",
          "height": 1000
        },
        "outputId": "3558f78d-c8ca-4e58-b5c7-ac3c95e3e4e1"
      },
      "source": [
        "space = {\n",
        "    'batch_size': hp.quniform('batch_size', 100, 200, 10),\n",
        "    'dropout_cnn_block_one': hp.uniform('dropout_cnn_block_one', 0.3, 0.5),\n",
        "    'dropout_cnn_block_two': hp.uniform('dropout_cnn_block_two', 0.3, 0.5),\n",
        "    'dropout_cnn_block_three': hp.uniform('dropout_cnn_block_three', 0.3, 0.5),\n",
        "\n",
        "    'dropout_dense_block_one': hp.uniform('dropout_dense_block_one', 0.3, 0.7),\n",
        "    'dropout_dense_block_two': hp.uniform('dropout_dense_block_two', 0.3, 0.7),\n",
        "}\n",
        "\n",
        "best = fmin(\n",
        "    func_obj,\n",
        "    space,\n",
        "    tpe.suggest,\n",
        "    30,\n",
        "    Trials()\n",
        ")"
      ],
      "execution_count": 31,
      "outputs": [
        {
          "output_type": "stream",
          "text": [
            "{'batch_size': 100.0, 'dropout_cnn_block_one': 0.3158762714085984, 'dropout_cnn_block_three': 0.410960444323035, 'dropout_cnn_block_two': 0.3199971320292658, 'dropout_dense_block_one': 0.6897726114281911, 'dropout_dense_block_two': 0.477158356462683}\n",
            "accuracy=0.9263038635253906\n",
            "{'batch_size': 160.0, 'dropout_cnn_block_one': 0.41705616359948866, 'dropout_cnn_block_three': 0.38879688872122864, 'dropout_cnn_block_two': 0.43746310924660026, 'dropout_dense_block_one': 0.46281998943793656, 'dropout_dense_block_two': 0.512490735642855}\n",
            "accuracy=0.9301587343215942\n",
            "{'batch_size': 100.0, 'dropout_cnn_block_one': 0.42881115815235094, 'dropout_cnn_block_three': 0.3510973694359794, 'dropout_cnn_block_two': 0.4412327004196013, 'dropout_dense_block_one': 0.4377388762905726, 'dropout_dense_block_two': 0.4255608687804069}\n",
            "accuracy=0.9396825432777405\n",
            "{'batch_size': 180.0, 'dropout_cnn_block_one': 0.41453656610847894, 'dropout_cnn_block_three': 0.3397144126920032, 'dropout_cnn_block_two': 0.4049651607722701, 'dropout_dense_block_one': 0.32176414625397715, 'dropout_dense_block_two': 0.5663321972627349}\n",
            "accuracy=0.9555555582046509\n",
            "{'batch_size': 170.0, 'dropout_cnn_block_one': 0.3995674476822001, 'dropout_cnn_block_three': 0.4654579497709287, 'dropout_cnn_block_two': 0.34817360312696516, 'dropout_dense_block_one': 0.42867329676390975, 'dropout_dense_block_two': 0.6545921426878956}\n",
            "accuracy=0.853741466999054\n",
            "{'batch_size': 140.0, 'dropout_cnn_block_one': 0.4514680545211579, 'dropout_cnn_block_three': 0.34957249141859836, 'dropout_cnn_block_two': 0.31051486190738237, 'dropout_dense_block_one': 0.598069853334931, 'dropout_dense_block_two': 0.6734771932904893}\n",
            "accuracy=0.9061224460601807\n",
            "{'batch_size': 190.0, 'dropout_cnn_block_one': 0.4864975966361773, 'dropout_cnn_block_three': 0.47791900618869826, 'dropout_cnn_block_two': 0.4379013315472614, 'dropout_dense_block_one': 0.5514996602503031, 'dropout_dense_block_two': 0.6983396831503337}\n",
            "accuracy=0.7952380776405334\n",
            "{'batch_size': 130.0, 'dropout_cnn_block_one': 0.3696106572300536, 'dropout_cnn_block_three': 0.36495833414546763, 'dropout_cnn_block_two': 0.4417558001557297, 'dropout_dense_block_one': 0.5260142381077033, 'dropout_dense_block_two': 0.33540990752096844}\n",
            "accuracy=0.9308390021324158\n",
            "{'batch_size': 180.0, 'dropout_cnn_block_one': 0.47021864467901936, 'dropout_cnn_block_three': 0.3384160068838417, 'dropout_cnn_block_two': 0.41300209234448854, 'dropout_dense_block_one': 0.6613099876063457, 'dropout_dense_block_two': 0.611046349565254}\n",
            "accuracy=0.7086167931556702\n",
            "{'batch_size': 170.0, 'dropout_cnn_block_one': 0.4292890276292466, 'dropout_cnn_block_three': 0.40371994941826184, 'dropout_cnn_block_two': 0.396053279835881, 'dropout_dense_block_one': 0.40580607497348514, 'dropout_dense_block_two': 0.6990402184641625}\n",
            "accuracy=0.9217687249183655\n",
            "{'batch_size': 130.0, 'dropout_cnn_block_one': 0.36392130438596454, 'dropout_cnn_block_three': 0.4533982565050997, 'dropout_cnn_block_two': 0.46193802692070335, 'dropout_dense_block_one': 0.6548762094174579, 'dropout_dense_block_two': 0.6598342304607129}\n",
            "accuracy=0.7462584972381592\n",
            "{'batch_size': 140.0, 'dropout_cnn_block_one': 0.39261281598084025, 'dropout_cnn_block_three': 0.3992944696243481, 'dropout_cnn_block_two': 0.3197051106712068, 'dropout_dense_block_one': 0.6276207467435649, 'dropout_dense_block_two': 0.4156770464118502}\n",
            "accuracy=0.9562358260154724\n",
            "{'batch_size': 160.0, 'dropout_cnn_block_one': 0.42906391860821796, 'dropout_cnn_block_three': 0.47857715979114573, 'dropout_cnn_block_two': 0.36992914200790555, 'dropout_dense_block_one': 0.5118086856804629, 'dropout_dense_block_two': 0.3690003844278371}\n",
            "accuracy=0.9480725526809692\n",
            "{'batch_size': 160.0, 'dropout_cnn_block_one': 0.437291227416178, 'dropout_cnn_block_three': 0.4026911011207414, 'dropout_cnn_block_two': 0.42716930482774784, 'dropout_dense_block_one': 0.372551938425444, 'dropout_dense_block_two': 0.3606503744709781}\n",
            "accuracy=0.9410430788993835\n",
            "{'batch_size': 100.0, 'dropout_cnn_block_one': 0.44180216928324334, 'dropout_cnn_block_three': 0.42898630594761505, 'dropout_cnn_block_two': 0.475339378720321, 'dropout_dense_block_one': 0.5152453818582552, 'dropout_dense_block_two': 0.6101658568802918}\n",
            "accuracy=0.8616780042648315\n",
            "{'batch_size': 190.0, 'dropout_cnn_block_one': 0.44456420360320337, 'dropout_cnn_block_three': 0.301226078244839, 'dropout_cnn_block_two': 0.3429083015000669, 'dropout_dense_block_one': 0.6973443134167098, 'dropout_dense_block_two': 0.315447356426194}\n",
            "accuracy=0.9473922848701477\n",
            "{'batch_size': 160.0, 'dropout_cnn_block_one': 0.38313284103982304, 'dropout_cnn_block_three': 0.3268921939269785, 'dropout_cnn_block_two': 0.4986582120863882, 'dropout_dense_block_one': 0.4277286327345072, 'dropout_dense_block_two': 0.3839649371297644}\n",
            "accuracy=0.9510204195976257\n",
            "{'batch_size': 140.0, 'dropout_cnn_block_one': 0.39396366824111456, 'dropout_cnn_block_three': 0.3968650839596101, 'dropout_cnn_block_two': 0.3545913196796695, 'dropout_dense_block_one': 0.3267939235059077, 'dropout_dense_block_two': 0.5061288533480621}\n",
            "accuracy=0.9639455676078796\n",
            "{'batch_size': 140.0, 'dropout_cnn_block_one': 0.3102113792106936, 'dropout_cnn_block_three': 0.3703398740993503, 'dropout_cnn_block_two': 0.4074116566270434, 'dropout_dense_block_one': 0.6800768058232549, 'dropout_dense_block_two': 0.508076198524885}\n",
            "accuracy=0.9324263334274292\n",
            "{'batch_size': 120.0, 'dropout_cnn_block_one': 0.43436906548042364, 'dropout_cnn_block_three': 0.4751133589512441, 'dropout_cnn_block_two': 0.45210320477204513, 'dropout_dense_block_one': 0.5550601271329554, 'dropout_dense_block_two': 0.4024685456775023}\n",
            "accuracy=0.8759637475013733\n",
            "{'batch_size': 120.0, 'dropout_cnn_block_one': 0.3345914365390632, 'dropout_cnn_block_three': 0.4338650632621108, 'dropout_cnn_block_two': 0.37098631957778205, 'dropout_dense_block_one': 0.3033639118163954, 'dropout_dense_block_two': 0.46054992930839367}\n",
            "accuracy=0.9575963616371155\n",
            "{'batch_size': 120.0, 'dropout_cnn_block_one': 0.3385106297521032, 'dropout_cnn_block_three': 0.43908537000233105, 'dropout_cnn_block_two': 0.3798977124936252, 'dropout_dense_block_one': 0.30180635817101376, 'dropout_dense_block_two': 0.4475772940853137}\n",
            "accuracy=0.9680272340774536\n",
            "{'batch_size': 110.0, 'dropout_cnn_block_one': 0.3450837301727452, 'dropout_cnn_block_three': 0.4315656768394444, 'dropout_cnn_block_two': 0.38059939996117836, 'dropout_dense_block_one': 0.3507160642332017, 'dropout_dense_block_two': 0.5415803082415959}\n",
            "accuracy=0.9328798055648804\n",
            "{'batch_size': 120.0, 'dropout_cnn_block_one': 0.3384156145772855, 'dropout_cnn_block_three': 0.4472369722219195, 'dropout_cnn_block_two': 0.3409920786835818, 'dropout_dense_block_one': 0.30137350658452533, 'dropout_dense_block_two': 0.4519440089388626}\n",
            "accuracy=0.9716553092002869\n",
            "{'batch_size': 110.0, 'dropout_cnn_block_one': 0.33168033951134146, 'dropout_cnn_block_three': 0.49562965700925066, 'dropout_cnn_block_two': 0.3315433584479444, 'dropout_dense_block_one': 0.3766263394404811, 'dropout_dense_block_two': 0.4515046804160696}\n",
            "accuracy=0.9532879590988159\n",
            "{'batch_size': 120.0, 'dropout_cnn_block_one': 0.30104074864753816, 'dropout_cnn_block_three': 0.4509280547882088, 'dropout_cnn_block_two': 0.38535988228210494, 'dropout_dense_block_one': 0.30755916578349535, 'dropout_dense_block_two': 0.44191389245094437}\n",
            "accuracy=0.9628117680549622\n",
            "{'batch_size': 110.0, 'dropout_cnn_block_one': 0.3588812916338431, 'dropout_cnn_block_three': 0.420648082037668, 'dropout_cnn_block_two': 0.3621635122875251, 'dropout_dense_block_one': 0.4729791736263947, 'dropout_dense_block_two': 0.4836300262100103}\n",
            "accuracy=0.9510204195976257\n",
            "{'batch_size': 130.0, 'dropout_cnn_block_one': 0.32799795552323624, 'dropout_cnn_block_three': 0.45211596401326193, 'dropout_cnn_block_two': 0.3349704384401791, 'dropout_dense_block_one': 0.3463268704982261, 'dropout_dense_block_two': 0.5322425832242151}\n",
            "accuracy=0.9505668878555298\n",
            "{'batch_size': 150.0, 'dropout_cnn_block_one': 0.3013445840935886, 'dropout_cnn_block_three': 0.4939276191162904, 'dropout_cnn_block_two': 0.3020381683276637, 'dropout_dense_block_one': 0.3969912875793308, 'dropout_dense_block_two': 0.3016365522757817}\n",
            "accuracy=0.9537414908409119\n",
            "{'batch_size': 100.0, 'dropout_cnn_block_one': 0.34841887363112367, 'dropout_cnn_block_three': 0.41585760986269826, 'dropout_cnn_block_two': 0.3890201028835814, 'dropout_dense_block_one': 0.35328227577889726, 'dropout_dense_block_two': 0.4749536582021672}\n",
            "accuracy=0.9374149441719055\n",
            "100%|██████████| 30/30 [10:06<00:00, 20.22s/it, best loss: -0.9716553092002869]\n"
          ],
          "name": "stdout"
        }
      ]
    },
    {
      "cell_type": "code",
      "metadata": {
        "id": "DRgIbH9_5tXN",
        "colab_type": "code",
        "colab": {}
      },
      "source": [
        ""
      ],
      "execution_count": 0,
      "outputs": []
    }
  ]
}